{
  "nbformat": 4,
  "nbformat_minor": 0,
  "metadata": {
    "anaconda-cloud": {},
    "kernelspec": {
      "display_name": "Python 3",
      "language": "python",
      "name": "python3"
    },
    "language_info": {
      "codemirror_mode": {
        "name": "ipython",
        "version": 3
      },
      "file_extension": ".py",
      "mimetype": "text/x-python",
      "name": "python",
      "nbconvert_exporter": "python",
      "pygments_lexer": "ipython3",
      "version": "3.6.3"
    },
    "colab": {
      "name": "dog_app.ipynb",
      "provenance": [],
      "collapsed_sections": []
    },
    "accelerator": "GPU"
  },
  "cells": [
    {
      "cell_type": "markdown",
      "metadata": {
        "id": "vo3KFz6rxCdN"
      },
      "source": [
        "# Data Scientist Nanodegree\n",
        "\n",
        "## Convolutional Neural Networks\n",
        "\n",
        "## Project: Write an Algorithm for a Dog Identification App \n",
        "\n",
        "\n",
        "This notebook walks you through one of the most popular Udacity projects across machine learning and artificial intellegence nanodegree programs.  The goal is to classify images of dogs according to their breed.  \n",
        "\n",
        "If you are looking for a more guided capstone project related to deep learning and convolutional neural networks, this might be just it.  Notice that even if you follow the notebook to creating your classifier, you must still create a blog post or deploy an application to fulfill the requirements of the capstone project.\n",
        "\n",
        "Also notice, you may be able to use only parts of this notebook (for example certain coding portions or the data) without completing all parts and still meet all requirements of the capstone project.\n",
        "\n",
        "---\n",
        "\n",
        "In this notebook, some template code has already been provided for you, and you will need to implement additional functionality to successfully complete this project. You will not need to modify the included code beyond what is requested. Sections that begin with **'(IMPLEMENTATION)'** in the header indicate that the following block of code will require additional functionality which you must provide. Instructions will be provided for each section, and the specifics of the implementation are marked in the code block with a 'TODO' statement. Please be sure to read the instructions carefully! \n",
        "\n",
        "In addition to implementing code, there will be questions that you must answer which relate to the project and your implementation. Each section where you will answer a question is preceded by a **'Question X'** header. Carefully read each question and provide thorough answers in the following text boxes that begin with **'Answer:'**. Your project submission will be evaluated based on your answers to each of the questions and the implementation you provide.\n",
        "\n",
        ">**Note:** Code and Markdown cells can be executed using the **Shift + Enter** keyboard shortcut.  Markdown cells can be edited by double-clicking the cell to enter edit mode.\n",
        "\n",
        "The rubric contains _optional_ \"Stand Out Suggestions\" for enhancing the project beyond the minimum requirements. If you decide to pursue the \"Stand Out Suggestions\", you should include the code in this IPython notebook.\n",
        "\n",
        "\n",
        "\n",
        "---\n",
        "### Why We're Here \n",
        "\n",
        "In this notebook, you will make the first steps towards developing an algorithm that could be used as part of a mobile or web app.  At the end of this project, your code will accept any user-supplied image as input.  If a dog is detected in the image, it will provide an estimate of the dog's breed.  If a human is detected, it will provide an estimate of the dog breed that is most resembling.  The image below displays potential sample output of your finished project (... but we expect that each student's algorithm will behave differently!). \n",
        "\n",
        "![Sample Dog Output](https://github.com/edbroni/dog_breed/blob/main/script/images/sample_dog_output.png?raw=1)\n",
        "\n",
        "In this real-world setting, you will need to piece together a series of models to perform different tasks; for instance, the algorithm that detects humans in an image will be different from the CNN that infers dog breed.  There are many points of possible failure, and no perfect algorithm exists.  Your imperfect solution will nonetheless create a fun user experience!\n",
        "\n",
        "### The Road Ahead\n",
        "\n",
        "We break the notebook into separate steps.  Feel free to use the links below to navigate the notebook.\n",
        "\n",
        "* [Step 0](#step0): Import Datasets\n",
        "* [Step 1](#step1): Detect Humans\n",
        "* [Step 2](#step2): Detect Dogs\n",
        "* [Step 3](#step3): Create a CNN to Classify Dog Breeds (from Scratch)\n",
        "* [Step 4](#step4): Use a CNN to Classify Dog Breeds (using Transfer Learning)\n",
        "* [Step 5](#step5): Create a CNN to Classify Dog Breeds (using Transfer Learning)\n",
        "* [Step 6](#step6): Write your Algorithm\n",
        "* [Step 7](#step7): Test Your Algorithm\n",
        "\n",
        "---\n",
        "<a id='step0'></a>\n",
        "## Step 0: Import Datasets\n",
        "\n",
        "### Import Dog Dataset\n",
        "\n",
        "In the code cell below, we import a dataset of dog images.  We populate a few variables through the use of the `load_files` function from the scikit-learn library:\n",
        "- `train_files`, `valid_files`, `test_files` - numpy arrays containing file paths to images\n",
        "- `train_targets`, `valid_targets`, `test_targets` - numpy arrays containing onehot-encoded classification labels \n",
        "- `dog_names` - list of string-valued dog breed names for translating labels"
      ]
    },
    {
      "cell_type": "code",
      "metadata": {
        "id": "8yHYAryBxs56"
      },
      "source": [
        "# Preparing the data in colab\n",
        "# Dog images\n",
        "!wget https://s3-us-west-1.amazonaws.com/udacity-aind/dog-project/dogImages.zip\n",
        "!unzip dogImages.zip\n",
        "# Human face images\n",
        "!wget https://s3-us-west-1.amazonaws.com/udacity-aind/dog-project/lfw.zip\n",
        "!unzip lfw.zip\n",
        "# Clone the repository to download saved models and haarcascades\n",
        "!git clone https://github.com/edbroni/dog_breed.git\n",
        "# Moving some folders and deleting others\n",
        "!mv /content/dog_breed/haarcascades/ /content/\n",
        "!mv /content/dog_breed/saved_models /content/\n",
        "!mv /content/dogImages /content/dog_images\n",
        "!rm dogImages.zip\n",
        "!rm lfw.zip\n",
        "!rm -rf __MACOSX\n",
        "!rm -rf dog_breed\n",
        "!mkdir bottleneck_features\n",
        "\n",
        "# flag to identify colab execution\n",
        "is_colab = True"
      ],
      "execution_count": 34,
      "outputs": []
    },
    {
      "cell_type": "code",
      "metadata": {
        "colab": {
          "base_uri": "https://localhost:8080/"
        },
        "id": "oHwb8JG5xCde",
        "outputId": "0094e8e7-dd34-420c-e76d-6a031156a932"
      },
      "source": [
        "from sklearn.datasets import load_files       \n",
        "from keras.utils import np_utils\n",
        "import numpy as np\n",
        "from glob import glob\n",
        "\n",
        "# define path to images according execution environment\n",
        "try:  \n",
        "    if is_colab == True:\n",
        "        path = '/content'\n",
        "except:\n",
        "    path = '../../../data'\n",
        "\n",
        "# define function to load train, test, and validation datasets\n",
        "def load_dataset(path):\n",
        "    data = load_files(path)\n",
        "    dog_files = np.array(data['filenames'])\n",
        "    dog_targets = np_utils.to_categorical(np.array(data['target']), 133)\n",
        "    return dog_files, dog_targets\n",
        "\n",
        "# load train, test, and validation datasets\n",
        "train_files, train_targets = load_dataset(path+'/dog_images/train')\n",
        "valid_files, valid_targets = load_dataset(path+'/dog_images/valid')\n",
        "test_files, test_targets = load_dataset(path+'/dog_images/test')\n",
        "dog_names = [item[20:-1] for item in sorted(glob(path+\"/dog_images/train/*/\"))]\n",
        "\n",
        "\n",
        "# print statistics about the dataset\n",
        "print('There are %d total dog categories.' % len(dog_names))\n",
        "print('There are %s total dog images.\\n' % len(np.hstack([train_files, valid_files, test_files])))\n",
        "print('There are %d training dog images.' % len(train_files))\n",
        "print('There are %d validation dog images.' % len(valid_files))\n",
        "print('There are %d test dog images.'% len(test_files))"
      ],
      "execution_count": 35,
      "outputs": [
        {
          "output_type": "stream",
          "text": [
            "There are 133 total dog categories.\n",
            "There are 8351 total dog images.\n",
            "\n",
            "There are 6680 training dog images.\n",
            "There are 835 validation dog images.\n",
            "There are 836 test dog images.\n"
          ],
          "name": "stdout"
        }
      ]
    },
    {
      "cell_type": "markdown",
      "metadata": {
        "id": "_chQXfpQxCdr"
      },
      "source": [
        "### Import Human Dataset\n",
        "\n",
        "In the code cell below, we import a dataset of human images, where the file paths are stored in the numpy array `human_files`."
      ]
    },
    {
      "cell_type": "code",
      "metadata": {
        "id": "4gbIXU2GxCdv",
        "colab": {
          "base_uri": "https://localhost:8080/"
        },
        "outputId": "54490607-bec6-4e80-87e0-643cf6207f42"
      },
      "source": [
        "import random\n",
        "random.seed(8675309)\n",
        "\n",
        "# load filenames in shuffled human dataset\n",
        "human_files = np.array(glob(path+\"/lfw/*/*\"))\n",
        "\n",
        "random.shuffle(human_files)\n",
        "\n",
        "# print statistics about the dataset\n",
        "print('There are %d total human images.' % len(human_files))"
      ],
      "execution_count": 5,
      "outputs": [
        {
          "output_type": "stream",
          "text": [
            "There are 13233 total human images.\n"
          ],
          "name": "stdout"
        }
      ]
    },
    {
      "cell_type": "markdown",
      "metadata": {
        "id": "hqa7_8SHxCd0"
      },
      "source": [
        "---\n",
        "<a id='step1'></a>\n",
        "## Step 1: Detect Humans\n",
        "\n",
        "We use OpenCV's implementation of [Haar feature-based cascade classifiers](http://docs.opencv.org/trunk/d7/d8b/tutorial_py_face_detection.html) to detect human faces in images.  OpenCV provides many pre-trained face detectors, stored as XML files on [github](https://github.com/opencv/opencv/tree/master/data/haarcascades).  We have downloaded one of these detectors and stored it in the `haarcascades` directory.\n",
        "\n",
        "In the next code cell, we demonstrate how to use this detector to find human faces in a sample image."
      ]
    },
    {
      "cell_type": "code",
      "metadata": {
        "id": "C-7OdchPxCd6",
        "colab": {
          "base_uri": "https://localhost:8080/",
          "height": 286
        },
        "outputId": "d755fd83-fda8-4d23-f23a-26b201df4664"
      },
      "source": [
        "import cv2                \n",
        "import matplotlib.pyplot as plt                        \n",
        "%matplotlib inline                               \n",
        "\n",
        "# extract pre-trained face detector\n",
        "face_cascade = cv2.CascadeClassifier('haarcascades/haarcascade_frontalface_alt.xml')\n",
        "\n",
        "# load color (BGR) image\n",
        "img = cv2.imread(human_files[0])\n",
        "# convert BGR image to grayscale\n",
        "gray = cv2.cvtColor(img, cv2.COLOR_BGR2GRAY)\n",
        "\n",
        "# find faces in image\n",
        "faces = face_cascade.detectMultiScale(gray)\n",
        "\n",
        "# print number of faces detected in the image\n",
        "print('Number of faces detected:', len(faces))\n",
        "\n",
        "# get bounding box for each detected face\n",
        "for (x,y,w,h) in faces:\n",
        "     # add bounding box to color image\n",
        "    cv2.rectangle(img,(x,y),(x+w,y+h),(255,0,0),2)\n",
        "    \n",
        "# convert BGR image to RGB for plotting\n",
        "cv_rgb = cv2.cvtColor(img, cv2.COLOR_BGR2RGB)\n",
        "\n",
        "# display the image, along with bounding box\n",
        "plt.imshow(cv_rgb)\n",
        "plt.show()"
      ],
      "execution_count": 36,
      "outputs": [
        {
          "output_type": "stream",
          "text": [
            "Number of faces detected: 1\n"
          ],
          "name": "stdout"
        },
        {
          "output_type": "display_data",
          "data": {
            "image/png": "[encoded data removed]",
            "text/plain": [
              "<Figure size 432x288 with 1 Axes>"
            ]
          },
          "metadata": {
            "tags": [],
            "needs_background": "light"
          }
        }
      ]
    },
    {
      "cell_type": "markdown",
      "metadata": {
        "id": "u5k0x-nZxCeA"
      },
      "source": [
        "Before using any of the face detectors, it is standard procedure to convert the images to grayscale.  The `detectMultiScale` function executes the classifier stored in `face_cascade` and takes the grayscale image as a parameter.  \n",
        "\n",
        "In the above code, `faces` is a numpy array of detected faces, where each row corresponds to a detected face.  Each detected face is a 1D array with four entries that specifies the bounding box of the detected face.  The first two entries in the array (extracted in the above code as `x` and `y`) specify the horizontal and vertical positions of the top left corner of the bounding box.  The last two entries in the array (extracted here as `w` and `h`) specify the width and height of the box.\n",
        "\n",
        "### Write a Human Face Detector\n",
        "\n",
        "We can use this procedure to write a function that returns `True` if a human face is detected in an image and `False` otherwise.  This function, aptly named `face_detector`, takes a string-valued file path to an image as input and appears in the code block below."
      ]
    },
    {
      "cell_type": "code",
      "metadata": {
        "id": "7Y9IHuBqxCeG"
      },
      "source": [
        "# returns \"True\" if face is detected in image stored at img_path\n",
        "def face_detector(img_path):\n",
        "    img = cv2.imread(img_path)\n",
        "    gray = cv2.cvtColor(img, cv2.COLOR_BGR2GRAY)\n",
        "    faces = face_cascade.detectMultiScale(gray)\n",
        "    return len(faces) > 0"
      ],
      "execution_count": 23,
      "outputs": []
    },
    {
      "cell_type": "markdown",
      "metadata": {
        "id": "16EkFgq2xCeK"
      },
      "source": [
        "### (IMPLEMENTATION) Assess the Human Face Detector\n",
        "\n",
        "__Question 1:__ Use the code cell below to test the performance of the `face_detector` function.  \n",
        "- What percentage of the first 100 images in `human_files` have a detected human face?  \n",
        "- What percentage of the first 100 images in `dog_files` have a detected human face? \n",
        "\n",
        "Ideally, we would like 100% of human images with a detected face and 0% of dog images with a detected face.  You will see that our algorithm falls short of this goal, but still gives acceptable performance.  We extract the file paths for the first 100 images from each of the datasets and store them in the numpy arrays `human_files_short` and `dog_files_short`.\n",
        "\n",
        "__Answer:__ Human faces - 100% correct, Dog faces - 81% correct"
      ]
    },
    {
      "cell_type": "code",
      "metadata": {
        "id": "vSwF-4xKxCeO",
        "colab": {
          "base_uri": "https://localhost:8080/"
        },
        "outputId": "9acd8345-3290-4ef9-f300-f9270ed321fe"
      },
      "source": [
        "human_files_short = human_files[:100]\n",
        "dog_files_short = train_files[:100]\n",
        "# Do NOT modify the code above this line.\n",
        "\n",
        "## TODO: Test the performance of the face_detector algorithm \n",
        "## on the images in human_files_short and dog_files_short.\n",
        "\n",
        "temp_count=[]\n",
        "[temp_count.append(1) for human_image in human_files_short if face_detector(human_image)==True]\n",
        "print(\"Checking the algorithm performance in human images: \",np.array(temp_count).sum())\n",
        "print(\"The correct should be 100\")\n",
        "\n",
        "# In dog dataset the 100% is equal find 0 faces\n",
        "temp_count=[]\n",
        "[temp_count.append(1) for dog_image in dog_files_short if face_detector(dog_image)==True]\n",
        "print(\"Checking the algorithm performance in dog images: \",np.array(temp_count).sum())\n",
        "print(\"The correct should be 0.0\")\n"
      ],
      "execution_count": 24,
      "outputs": [
        {
          "output_type": "stream",
          "text": [
            "Checking the algorithm performance in human images:  100\n",
            "The correct should be 100\n",
            "Checking the algorithm performance in dog images:  54\n",
            "The correct should be 0.0\n"
          ],
          "name": "stdout"
        }
      ]
    },
    {
      "cell_type": "markdown",
      "metadata": {
        "id": "eA12MPS1xCeR"
      },
      "source": [
        "__Question 2:__ This algorithmic choice necessitates that we communicate to the user that we accept human images only when they provide a clear view of a face (otherwise, we risk having unneccessarily frustrated users!). In your opinion, is this a reasonable expectation to pose on the user? If not, can you think of a way to detect humans in images that does not necessitate an image with a clearly presented face?\n",
        "\n",
        "__Answer:__ Input of a front face image is a reasonable expectation due to the\n",
        "restrictions we have on pre-trained human face classification only for front faces. For best results on any image, we should train a CNN to detect human faces, including images of human faces in positions other than frontal. \n",
        "\n",
        "We suggest the face detector from OpenCV as a potential way to detect human images in your algorithm, but you are free to explore other approaches, especially approaches that make use of deep learning :).  Please use the code cell below to design and test your own face detection algorithm.  If you decide to pursue this _optional_ task, report performance on each of the datasets."
      ]
    },
    {
      "cell_type": "code",
      "metadata": {
        "collapsed": true,
        "id": "YdeGEyauxCeV"
      },
      "source": [
        "## (Optional) TODO: Report the performance of another  \n",
        "## face detection algorithm on the LFW dataset\n",
        "### Feel free to use as many code cells as needed."
      ],
      "execution_count": null,
      "outputs": []
    },
    {
      "cell_type": "markdown",
      "metadata": {
        "id": "cA31xbBIxCeX"
      },
      "source": [
        "---\n",
        "<a id='step2'></a>\n",
        "## Step 2: Detect Dogs\n",
        "\n",
        "In this section, we use a pre-trained [ResNet-50](http://ethereon.github.io/netscope/#/gist/db945b393d40bfa26006) model to detect dogs in images.  Our first line of code downloads the ResNet-50 model, along with weights that have been trained on [ImageNet](http://www.image-net.org/), a very large, very popular dataset used for image classification and other vision tasks.  ImageNet contains over 10 million URLs, each linking to an image containing an object from one of [1000 categories](https://gist.github.com/yrevar/942d3a0ac09ec9e5eb3a).  Given an image, this pre-trained ResNet-50 model returns a prediction (derived from the available categories in ImageNet) for the object that is contained in the image."
      ]
    },
    {
      "cell_type": "code",
      "metadata": {
        "id": "9OZSh7AfxCeY"
      },
      "source": [
        "from keras.applications.resnet50 import ResNet50\n",
        "\n",
        "# define ResNet50 model\n",
        "ResNet50_model = ResNet50(weights='imagenet')"
      ],
      "execution_count": 76,
      "outputs": []
    },
    {
      "cell_type": "markdown",
      "metadata": {
        "id": "dONzP4RTxCea"
      },
      "source": [
        "### Pre-process the Data\n",
        "\n",
        "When using TensorFlow as backend, Keras CNNs require a 4D array (which we'll also refer to as a 4D tensor) as input, with shape\n",
        "\n",
        "$$\n",
        "(\\text{nb_samples}, \\text{rows}, \\text{columns}, \\text{channels}),\n",
        "$$\n",
        "\n",
        "where `nb_samples` corresponds to the total number of images (or samples), and `rows`, `columns`, and `channels` correspond to the number of rows, columns, and channels for each image, respectively.  \n",
        "\n",
        "The `path_to_tensor` function below takes a string-valued file path to a color image as input and returns a 4D tensor suitable for supplying to a Keras CNN.  The function first loads the image and resizes it to a square image that is $224 \\times 224$ pixels.  Next, the image is converted to an array, which is then resized to a 4D tensor.  In this case, since we are working with color images, each image has three channels.  Likewise, since we are processing a single image (or sample), the returned tensor will always have shape\n",
        "\n",
        "$$\n",
        "(1, 224, 224, 3).\n",
        "$$\n",
        "\n",
        "The `paths_to_tensor` function takes a numpy array of string-valued image paths as input and returns a 4D tensor with shape \n",
        "\n",
        "$$\n",
        "(\\text{nb_samples}, 224, 224, 3).\n",
        "$$\n",
        "\n",
        "Here, `nb_samples` is the number of samples, or number of images, in the supplied array of image paths.  It is best to think of `nb_samples` as the number of 3D tensors (where each 3D tensor corresponds to a different image) in your dataset!"
      ]
    },
    {
      "cell_type": "code",
      "metadata": {
        "id": "iY1iL0zoxCeb"
      },
      "source": [
        "from keras.preprocessing import image                  \n",
        "from tqdm import tqdm\n",
        "\n",
        "def path_to_tensor(img_path):\n",
        "    # loads RGB image as PIL.Image.Image type\n",
        "    img = image.load_img(img_path, target_size=(224, 224))\n",
        "    # convert PIL.Image.Image type to 3D tensor with shape (224, 224, 3)\n",
        "    x = image.img_to_array(img)\n",
        "    # convert 3D tensor to 4D tensor with shape (1, 224, 224, 3) and return 4D tensor\n",
        "    return np.expand_dims(x, axis=0)\n",
        "\n",
        "\n",
        "def paths_to_tensor(img_paths):\n",
        "    list_of_tensors = [path_to_tensor(img_path) for img_path in tqdm(img_paths)]\n",
        "    return np.vstack(list_of_tensors)"
      ],
      "execution_count": 77,
      "outputs": []
    },
    {
      "cell_type": "markdown",
      "metadata": {
        "id": "cqROBWz3xCed"
      },
      "source": [
        "### Making Predictions with ResNet-50\n",
        "\n",
        "Getting the 4D tensor ready for ResNet-50, and for any other pre-trained model in Keras, requires some additional processing.  First, the RGB image is converted to BGR by reordering the channels.  All pre-trained models have the additional normalization step that the mean pixel (expressed in RGB as $[103.939, 116.779, 123.68]$ and calculated from all pixels in all images in ImageNet) must be subtracted from every pixel in each image.  This is implemented in the imported function `preprocess_input`.  If you're curious, you can check the code for `preprocess_input` [here](https://github.com/fchollet/keras/blob/master/keras/applications/imagenet_utils.py).\n",
        "\n",
        "Now that we have a way to format our image for supplying to ResNet-50, we are now ready to use the model to extract the predictions.  This is accomplished with the `predict` method, which returns an array whose $i$-th entry is the model's predicted probability that the image belongs to the $i$-th ImageNet category.  This is implemented in the `ResNet50_predict_labels` function below.\n",
        "\n",
        "By taking the argmax of the predicted probability vector, we obtain an integer corresponding to the model's predicted object class, which we can identify with an object category through the use of this [dictionary](https://gist.github.com/yrevar/942d3a0ac09ec9e5eb3a). "
      ]
    },
    {
      "cell_type": "code",
      "metadata": {
        "id": "TFawVW8dxCee"
      },
      "source": [
        "from keras.applications.resnet50 import preprocess_input, decode_predictions\n",
        "\n",
        "def ResNet50_predict_labels(img_path):\n",
        "    # returns prediction vector for image located at img_path\n",
        "    img = preprocess_input(path_to_tensor(img_path))\n",
        "    return np.argmax(ResNet50_model.predict(img))"
      ],
      "execution_count": 78,
      "outputs": []
    },
    {
      "cell_type": "markdown",
      "metadata": {
        "id": "Fn6qi7PSxCef"
      },
      "source": [
        "### Write a Dog Detector\n",
        "\n",
        "While looking at the [dictionary](https://gist.github.com/yrevar/942d3a0ac09ec9e5eb3a), you will notice that the categories corresponding to dogs appear in an uninterrupted sequence and correspond to dictionary keys 151-268, inclusive, to include all categories from `'Chihuahua'` to `'Mexican hairless'`.  Thus, in order to check to see if an image is predicted to contain a dog by the pre-trained ResNet-50 model, we need only check if the `ResNet50_predict_labels` function above returns a value between 151 and 268 (inclusive).\n",
        "\n",
        "We use these ideas to complete the `dog_detector` function below, which returns `True` if a dog is detected in an image (and `False` if not)."
      ]
    },
    {
      "cell_type": "code",
      "metadata": {
        "id": "K1pbYr-PxCeg"
      },
      "source": [
        "### returns \"True\" if a dog is detected in the image stored at img_path\n",
        "def dog_detector(img_path):\n",
        "    prediction = ResNet50_predict_labels(img_path)\n",
        "    return ((prediction <= 268) & (prediction >= 151)) "
      ],
      "execution_count": 79,
      "outputs": []
    },
    {
      "cell_type": "markdown",
      "metadata": {
        "id": "8YA9ej0HxCei"
      },
      "source": [
        "### (IMPLEMENTATION) Assess the Dog Detector\n",
        "\n",
        "__Question 3:__ Use the code cell below to test the performance of your `dog_detector` function.  \n",
        "- What percentage of the images in `human_files_short` have a detected dog?  \n",
        "- What percentage of the images in `dog_files_short` have a detected dog?\n",
        "\n",
        "__Answer:__ Detected dog in human file - 1% - should be 0                \n",
        "Detected dog in dog files - 100%"
      ]
    },
    {
      "cell_type": "code",
      "metadata": {
        "id": "_ihzgmZGxCek",
        "colab": {
          "base_uri": "https://localhost:8080/"
        },
        "outputId": "22c710d1-1183-4ae5-a3d1-6dcc03ab0dba"
      },
      "source": [
        "### TODO: Test the performance of the dog_detector function\n",
        "### on the images in human_files_short and dog_files_short.\n",
        "\n",
        "temp_count=[]\n",
        "[temp_count.append(1) for human_image in human_files_short if dog_detector(human_image)==True]\n",
        "print(\"Checking the algorithm performance in human images: \",np.array(temp_count).sum())\n",
        "print(\"The correct should be 0\")\n",
        "\n",
        "# In dog dataset the 100% is equal find 100 dogs\n",
        "temp_count=[]\n",
        "[temp_count.append(1) for dog_image in dog_files_short if dog_detector(dog_image)==True]\n",
        "print(\"Checking the algorithm performance in dog images: \",np.array(temp_count).sum())\n",
        "print(\"The correct should be 100.0\")"
      ],
      "execution_count": 29,
      "outputs": [
        {
          "output_type": "stream",
          "text": [
            "Checking the algorithm performance in human images:  1\n",
            "The correct should be 0\n",
            "Checking the algorithm performance in dog images:  100\n",
            "The correct should be 100.0\n"
          ],
          "name": "stdout"
        }
      ]
    },
    {
      "cell_type": "markdown",
      "metadata": {
        "id": "tM7pgGC9xCem"
      },
      "source": [
        "---\n",
        "<a id='step3'></a>\n",
        "## Step 3: Create a CNN to Classify Dog Breeds (from Scratch)\n",
        "\n",
        "Now that we have functions for detecting humans and dogs in images, we need a way to predict breed from images.  In this step, you will create a CNN that classifies dog breeds.  You must create your CNN _from scratch_ (so, you can't use transfer learning _yet_!), and you must attain a test accuracy of at least 1%.  In Step 5 of this notebook, you will have the opportunity to use transfer learning to create a CNN that attains greatly improved accuracy.\n",
        "\n",
        "Be careful with adding too many trainable layers!  More parameters means longer training, which means you are more likely to need a GPU to accelerate the training process.  Thankfully, Keras provides a handy estimate of the time that each epoch is likely to take; you can extrapolate this estimate to figure out how long it will take for your algorithm to train. \n",
        "\n",
        "We mention that the task of assigning breed to dogs from images is considered exceptionally challenging.  To see why, consider that *even a human* would have great difficulty in distinguishing between a Brittany and a Welsh Springer Spaniel.  \n",
        "\n",
        "Brittany | Welsh Springer Spaniel\n",
        "- | - \n",
        "<img src=\"https://github.com/edbroni/dog_breed/blob/main/script/images/Brittany_02625.jpg?raw=1\" width=\"100\"> | <img src=\"https://github.com/edbroni/dog_breed/blob/main/script/images/Welsh_springer_spaniel_08203.jpg?raw=1\" width=\"200\">\n",
        "\n",
        "It is not difficult to find other dog breed pairs with minimal inter-class variation (for instance, Curly-Coated Retrievers and American Water Spaniels).  \n",
        "\n",
        "Curly-Coated Retriever | American Water Spaniel\n",
        "- | -\n",
        "<img src=\"https://github.com/edbroni/dog_breed/blob/main/script/images/Curly-coated_retriever_03896.jpg?raw=1\" width=\"200\"> | <img src=\"https://github.com/edbroni/dog_breed/blob/main/script/images/American_water_spaniel_00648.jpg?raw=1\" width=\"200\">\n",
        "\n",
        "\n",
        "Likewise, recall that labradors come in yellow, chocolate, and black.  Your vision-based algorithm will have to conquer this high intra-class variation to determine how to classify all of these different shades as the same breed.  \n",
        "\n",
        "Yellow Labrador | Chocolate Labrador | Black Labrador\n",
        "- | -\n",
        "<img src=\"https://github.com/edbroni/dog_breed/blob/main/script/images/Labrador_retriever_06457.jpg?raw=1\" width=\"150\"> | <img src=\"https://github.com/edbroni/dog_breed/blob/main/script/images/Labrador_retriever_06455.jpg?raw=1\" width=\"240\"> | <img src=\"https://github.com/edbroni/dog_breed/blob/main/script/images/Labrador_retriever_06449.jpg?raw=1\" width=\"220\">\n",
        "\n",
        "We also mention that random chance presents an exceptionally low bar: setting aside the fact that the classes are slightly imabalanced, a random guess will provide a correct answer roughly 1 in 133 times, which corresponds to an accuracy of less than 1%.  \n",
        "\n",
        "Remember that the practice is far ahead of the theory in deep learning.  Experiment with many different architectures, and trust your intuition.  And, of course, have fun! \n",
        "\n",
        "### Pre-process the Data\n",
        "\n",
        "We rescale the images by dividing every pixel in every image by 255."
      ]
    },
    {
      "cell_type": "code",
      "metadata": {
        "colab": {
          "base_uri": "https://localhost:8080/"
        },
        "id": "l6EsuzpAxCeo",
        "outputId": "d61b9089-d3ed-4ec2-e8f9-7a4d75759715"
      },
      "source": [
        "from PIL import ImageFile                            \n",
        "ImageFile.LOAD_TRUNCATED_IMAGES = True                 \n",
        "\n",
        "# pre-process the data for Keras\n",
        "train_tensors = paths_to_tensor(train_files).astype('float32')/255\n",
        "valid_tensors = paths_to_tensor(valid_files).astype('float32')/255\n",
        "test_tensors = paths_to_tensor(test_files).astype('float32')/255"
      ],
      "execution_count": 30,
      "outputs": [
        {
          "output_type": "stream",
          "text": [
            "100%|██████████| 6680/6680 [01:05<00:00, 101.97it/s]\n",
            "100%|██████████| 835/835 [00:07<00:00, 105.88it/s]\n",
            "100%|██████████| 836/836 [00:07<00:00, 109.94it/s]\n"
          ],
          "name": "stderr"
        }
      ]
    },
    {
      "cell_type": "markdown",
      "metadata": {
        "id": "-cdB_WikxCeq"
      },
      "source": [
        "### (IMPLEMENTATION) Model Architecture\n",
        "\n",
        "Create a CNN to classify dog breed.  At the end of your code cell block, summarize the layers of your model by executing the line:\n",
        "    \n",
        "        model.summary()\n",
        "\n",
        "We have imported some Python modules to get you started, but feel free to import as many modules as you need.  If you end up getting stuck, here's a hint that specifies a model that trains relatively fast on CPU and attains >1% test accuracy in 5 epochs:\n",
        "\n",
        "![Sample CNN](https://github.com/edbroni/dog_breed/blob/main/script/images/sample_cnn.png?raw=1)\n",
        "           \n",
        "__Question 4:__ Outline the steps you took to get to your final CNN architecture and your reasoning at each step.  If you chose to use the hinted architecture above, describe why you think that CNN architecture should work well for the image classification task.\n",
        "\n",
        "__Answer:__ I tried to do a simple network capable to identify at least one feature for each class. With this in mind I used 3 convolutional layers to keep simple and starting with 64 filter and increase to 256 more than 133 features I thought was necessary. Connecting to global average pooling to reduce the number of nodes and 2 fully connected layers, the first to expand the search space and the last to classify in the number of desired classes."
      ]
    },
    {
      "cell_type": "code",
      "metadata": {
        "colab": {
          "base_uri": "https://localhost:8080/"
        },
        "id": "9hJf0wM8xCer",
        "outputId": "bff899ba-6b8d-446d-9088-664661b7e7f6"
      },
      "source": [
        "from keras.layers import Conv2D, MaxPooling2D, GlobalAveragePooling2D\n",
        "from keras.layers import Dropout, Flatten, Dense\n",
        "from keras.models import Sequential\n",
        "\n",
        "model = Sequential()\n",
        "_,x,y,depth = train_tensors.shape\n",
        "n_classes = 133\n",
        "\n",
        "### TODO: Define your architecture.\n",
        "model.add(Conv2D(filters=64, kernel_size=3, padding='same', activation='relu', input_shape=(x,y,depth)))\n",
        "model.add(MaxPooling2D(pool_size=2))\n",
        "model.add(Conv2D(filters=128, kernel_size=3, padding='same', activation='relu', input_shape=(x,y,depth)))\n",
        "model.add(MaxPooling2D(pool_size=2))\n",
        "model.add(Conv2D(filters=256, kernel_size=3, padding='same', activation='relu', input_shape=(x,y,depth)))\n",
        "model.add(MaxPooling2D(pool_size=2))\n",
        "model.add(GlobalAveragePooling2D())\n",
        "model.add(Dense(1024, activation='relu'))\n",
        "model.add(Dropout(0.3))\n",
        "model.add(Dense(n_classes, activation='softmax'))\n",
        "\n",
        "\n",
        "\n",
        "model.summary()"
      ],
      "execution_count": 31,
      "outputs": [
        {
          "output_type": "stream",
          "text": [
            "Model: \"sequential\"\n",
            "_________________________________________________________________\n",
            "Layer (type)                 Output Shape              Param #   \n",
            "=================================================================\n",
            "conv2d (Conv2D)              (None, 224, 224, 64)      1792      \n",
            "_________________________________________________________________\n",
            "max_pooling2d (MaxPooling2D) (None, 112, 112, 64)      0         \n",
            "_________________________________________________________________\n",
            "conv2d_1 (Conv2D)            (None, 112, 112, 128)     73856     \n",
            "_________________________________________________________________\n",
            "max_pooling2d_1 (MaxPooling2 (None, 56, 56, 128)       0         \n",
            "_________________________________________________________________\n",
            "conv2d_2 (Conv2D)            (None, 56, 56, 256)       295168    \n",
            "_________________________________________________________________\n",
            "max_pooling2d_2 (MaxPooling2 (None, 28, 28, 256)       0         \n",
            "_________________________________________________________________\n",
            "global_average_pooling2d (Gl (None, 256)               0         \n",
            "_________________________________________________________________\n",
            "dense (Dense)                (None, 1024)              263168    \n",
            "_________________________________________________________________\n",
            "dropout (Dropout)            (None, 1024)              0         \n",
            "_________________________________________________________________\n",
            "dense_1 (Dense)              (None, 133)               136325    \n",
            "=================================================================\n",
            "Total params: 770,309\n",
            "Trainable params: 770,309\n",
            "Non-trainable params: 0\n",
            "_________________________________________________________________\n"
          ],
          "name": "stdout"
        }
      ]
    },
    {
      "cell_type": "markdown",
      "metadata": {
        "id": "3SQLizvvxCet"
      },
      "source": [
        "### Compile the Model"
      ]
    },
    {
      "cell_type": "code",
      "metadata": {
        "id": "mpHE7hqnxCet"
      },
      "source": [
        "model.compile(optimizer='rmsprop', loss='categorical_crossentropy', metrics=['accuracy'])"
      ],
      "execution_count": null,
      "outputs": []
    },
    {
      "cell_type": "markdown",
      "metadata": {
        "id": "CMT8OENBxCev"
      },
      "source": [
        "### (IMPLEMENTATION) Train the Model\n",
        "\n",
        "Train your model in the code cell below.  Use model checkpointing to save the model that attains the best validation loss.\n",
        "\n",
        "You are welcome to [augment the training data](https://blog.keras.io/building-powerful-image-classification-models-using-very-little-data.html), but this is not a requirement. "
      ]
    },
    {
      "cell_type": "code",
      "metadata": {
        "colab": {
          "base_uri": "https://localhost:8080/"
        },
        "id": "9XIraaJmxCev",
        "outputId": "6cc31206-669f-4529-db86-35bad1105409"
      },
      "source": [
        "from keras.callbacks import ModelCheckpoint \n",
        "from keras.preprocessing.image import  ImageDataGenerator\n",
        "\n",
        "datagen = ImageDataGenerator(rotation_range=40,\n",
        "                             width_shift_range=0.2,\n",
        "                             height_shift_range=0.2,\n",
        "                             horizontal_flip=True,\n",
        "                             rescale=1./255,\n",
        "                             fill_mode='nearest')\n",
        "\n",
        "\n",
        "# Generate the augmented train images\n",
        "train_generator =  datagen.flow_from_directory(path+'/dog_images/train',\n",
        "                                               target_size=(224,224),\n",
        "                                               batch_size=20,\n",
        "                                               class_mode='categorical'\n",
        "                                               )\n",
        "\n",
        "# Generate the augmented validity images\n",
        "valid_generator =  datagen.flow_from_directory(path+'/dog_images/valid',\n",
        "                                               target_size=(224,224),\n",
        "                                               batch_size=20,\n",
        "                                               class_mode='categorical'\n",
        "                                               )\n",
        "\n",
        "### TODO: specify the number of epochs that you would like to use to train the model.\n",
        "\n",
        "epochs = 10\n",
        "\n",
        "### Do NOT modify the code below this line.\n",
        "\n",
        "checkpointer = ModelCheckpoint(filepath='saved_models/weights.best.from_scratch.hdf5', \n",
        "                               verbose=1, save_best_only=True)\n",
        "\n",
        "# Normal train dataset\n",
        "#model.fit(train_tensors, train_targets, \n",
        "#          validation_data=(valid_tensors, valid_targets),\n",
        "#          epochs=epochs, batch_size=20, callbacks=[checkpointer], verbose=1)\n",
        "\n",
        "# Augmented train dataset\n",
        "model.fit(train_generator,\n",
        "          steps_per_epoch =  train_tensors.shape[0] / 20,\n",
        "          validation_data=valid_generator,\n",
        "          epochs=epochs, batch_size=20, callbacks=[checkpointer], verbose=1)"
      ],
      "execution_count": null,
      "outputs": [
        {
          "output_type": "stream",
          "text": [
            "Found 6680 images belonging to 133 classes.\n",
            "Found 835 images belonging to 133 classes.\n",
            "Epoch 1/10\n",
            "334/334 [==============================] - 120s 360ms/step - loss: 3.4633 - accuracy: 0.1749 - val_loss: 3.6231 - val_accuracy: 0.1689\n",
            "\n",
            "Epoch 00001: val_loss improved from inf to 3.62306, saving model to /content/saved_models/weights.best.from_scratch.hdf5\n",
            "Epoch 2/10\n",
            "334/334 [==============================] - 120s 359ms/step - loss: 3.4163 - accuracy: 0.1741 - val_loss: 3.5154 - val_accuracy: 0.1701\n",
            "\n",
            "Epoch 00002: val_loss improved from 3.62306 to 3.51543, saving model to /content/saved_models/weights.best.from_scratch.hdf5\n",
            "Epoch 3/10\n",
            "334/334 [==============================] - 121s 361ms/step - loss: 3.3893 - accuracy: 0.1816 - val_loss: 3.6696 - val_accuracy: 0.1701\n",
            "\n",
            "Epoch 00003: val_loss did not improve from 3.51543\n",
            "Epoch 4/10\n",
            "334/334 [==============================] - 121s 361ms/step - loss: 3.3696 - accuracy: 0.1928 - val_loss: 3.6232 - val_accuracy: 0.1749\n",
            "\n",
            "Epoch 00004: val_loss did not improve from 3.51543\n",
            "Epoch 5/10\n",
            "334/334 [==============================] - 121s 363ms/step - loss: 3.3418 - accuracy: 0.1877 - val_loss: 3.3940 - val_accuracy: 0.1940\n",
            "\n",
            "Epoch 00005: val_loss improved from 3.51543 to 3.39398, saving model to /content/saved_models/weights.best.from_scratch.hdf5\n",
            "Epoch 6/10\n",
            "334/334 [==============================] - 121s 362ms/step - loss: 3.3000 - accuracy: 0.2006 - val_loss: 4.0717 - val_accuracy: 0.1174\n",
            "\n",
            "Epoch 00006: val_loss did not improve from 3.39398\n",
            "Epoch 7/10\n",
            "334/334 [==============================] - 121s 362ms/step - loss: 3.2482 - accuracy: 0.2111 - val_loss: 3.4233 - val_accuracy: 0.1880\n",
            "\n",
            "Epoch 00007: val_loss did not improve from 3.39398\n",
            "Epoch 8/10\n",
            "334/334 [==============================] - 122s 366ms/step - loss: 3.2285 - accuracy: 0.2102 - val_loss: 3.4587 - val_accuracy: 0.1808\n",
            "\n",
            "Epoch 00008: val_loss did not improve from 3.39398\n",
            "Epoch 9/10\n",
            "334/334 [==============================] - 122s 364ms/step - loss: 3.2028 - accuracy: 0.2139 - val_loss: 3.4129 - val_accuracy: 0.2144\n",
            "\n",
            "Epoch 00009: val_loss did not improve from 3.39398\n",
            "Epoch 10/10\n",
            "334/334 [==============================] - 122s 365ms/step - loss: 3.1878 - accuracy: 0.2142 - val_loss: 3.4638 - val_accuracy: 0.1749\n",
            "\n",
            "Epoch 00010: val_loss did not improve from 3.39398\n"
          ],
          "name": "stdout"
        },
        {
          "output_type": "execute_result",
          "data": {
            "text/plain": [
              "<keras.callbacks.History at 0x7f1178413bd0>"
            ]
          },
          "metadata": {
            "tags": []
          },
          "execution_count": 36
        }
      ]
    },
    {
      "cell_type": "markdown",
      "metadata": {
        "id": "RRIx97HhxCey"
      },
      "source": [
        "### Load the Model with the Best Validation Loss"
      ]
    },
    {
      "cell_type": "code",
      "metadata": {
        "id": "hx8bsRzXxCe0"
      },
      "source": [
        "model.load_weights('saved_models/weights.best.from_scratch.hdf5')"
      ],
      "execution_count": 37,
      "outputs": []
    },
    {
      "cell_type": "markdown",
      "metadata": {
        "id": "RDqeKnylxCe1"
      },
      "source": [
        "### Test the Model\n",
        "\n",
        "Try out your model on the test dataset of dog images.  Ensure that your test accuracy is greater than 1%."
      ]
    },
    {
      "cell_type": "code",
      "metadata": {
        "colab": {
          "base_uri": "https://localhost:8080/"
        },
        "id": "Gk10Jf_GxCe2",
        "outputId": "faf8160b-36f2-4821-ff71-171f4ab78fb4"
      },
      "source": [
        "# get index of predicted dog breed for each image in test set\n",
        "dog_breed_predictions = [np.argmax(model.predict(np.expand_dims(tensor, axis=0))) for tensor in test_tensors]\n",
        "\n",
        "# report test accuracy\n",
        "test_accuracy = 100*np.sum(np.array(dog_breed_predictions)==np.argmax(test_targets, axis=1))/len(dog_breed_predictions)\n",
        "print('Test accuracy: %.4f%%' % test_accuracy)"
      ],
      "execution_count": 33,
      "outputs": [
        {
          "output_type": "stream",
          "text": [
            "Test accuracy: 18.6603%\n"
          ],
          "name": "stdout"
        }
      ]
    },
    {
      "cell_type": "markdown",
      "metadata": {
        "id": "QPD-0Px9xCe3"
      },
      "source": [
        "---\n",
        "<a id='step4'></a>\n",
        "## Step 4: Use a CNN to Classify Dog Breeds\n",
        "\n",
        "To reduce training time without sacrificing accuracy, we show you how to train a CNN using transfer learning.  In the following step, you will get a chance to use transfer learning to train your own CNN.\n",
        "\n",
        "### Obtain Bottleneck Features"
      ]
    },
    {
      "cell_type": "code",
      "metadata": {
        "colab": {
          "base_uri": "https://localhost:8080/"
        },
        "id": "y7-7WAlO5SZN",
        "outputId": "27fe4962-d6ae-4dc4-f2b1-01b76dff8608"
      },
      "source": [
        "# Redoing the bottleneck features in colab - google - avoid to upload data\n",
        "from tensorflow.keras.applications import VGG16\n",
        "from tqdm import tqdm\n",
        "\n",
        "input_shape = tuple(train_tensors.shape[1:])\n",
        "#input_shape = tuple(train_files.shape[1:])\n",
        "model = VGG16(include_top = False,   # Without the 3 fully-connected layers\n",
        "              weights = \"imagenet\",  # Load the pre-trained weights\n",
        "              input_shape = input_shape)\n",
        "model.trainable = False \n",
        "model.summary()\n",
        "\n",
        "# Create the bottleneck_features\n",
        "for i in tqdm(range(3)):\n",
        "    train_VGG16 = model.predict(train_tensors)\n",
        "    valid_VGG16 = model.predict(valid_tensors)\n",
        "    test_VGG16 = model.predict(test_tensors)\n",
        "\n",
        "# Save the bottleneck_features\n",
        "np.savez_compressed('bottleneck_features/DogVGG16Data.npz',train=train_VGG16,valid=valid_VGG16,test=test_VGG16)"
      ],
      "execution_count": 41,
      "outputs": [
        {
          "output_type": "stream",
          "text": [
            "\r  0%|          | 0/3 [00:00<?, ?it/s]"
          ],
          "name": "stderr"
        },
        {
          "output_type": "stream",
          "text": [
            "Model: \"vgg16\"\n",
            "_________________________________________________________________\n",
            "Layer (type)                 Output Shape              Param #   \n",
            "=================================================================\n",
            "input_3 (InputLayer)         [(None, 224, 224, 3)]     0         \n",
            "_________________________________________________________________\n",
            "block1_conv1 (Conv2D)        (None, 224, 224, 64)      1792      \n",
            "_________________________________________________________________\n",
            "block1_conv2 (Conv2D)        (None, 224, 224, 64)      36928     \n",
            "_________________________________________________________________\n",
            "block1_pool (MaxPooling2D)   (None, 112, 112, 64)      0         \n",
            "_________________________________________________________________\n",
            "block2_conv1 (Conv2D)        (None, 112, 112, 128)     73856     \n",
            "_________________________________________________________________\n",
            "block2_conv2 (Conv2D)        (None, 112, 112, 128)     147584    \n",
            "_________________________________________________________________\n",
            "block2_pool (MaxPooling2D)   (None, 56, 56, 128)       0         \n",
            "_________________________________________________________________\n",
            "block3_conv1 (Conv2D)        (None, 56, 56, 256)       295168    \n",
            "_________________________________________________________________\n",
            "block3_conv2 (Conv2D)        (None, 56, 56, 256)       590080    \n",
            "_________________________________________________________________\n",
            "block3_conv3 (Conv2D)        (None, 56, 56, 256)       590080    \n",
            "_________________________________________________________________\n",
            "block3_pool (MaxPooling2D)   (None, 28, 28, 256)       0         \n",
            "_________________________________________________________________\n",
            "block4_conv1 (Conv2D)        (None, 28, 28, 512)       1180160   \n",
            "_________________________________________________________________\n",
            "block4_conv2 (Conv2D)        (None, 28, 28, 512)       2359808   \n",
            "_________________________________________________________________\n",
            "block4_conv3 (Conv2D)        (None, 28, 28, 512)       2359808   \n",
            "_________________________________________________________________\n",
            "block4_pool (MaxPooling2D)   (None, 14, 14, 512)       0         \n",
            "_________________________________________________________________\n",
            "block5_conv1 (Conv2D)        (None, 14, 14, 512)       2359808   \n",
            "_________________________________________________________________\n",
            "block5_conv2 (Conv2D)        (None, 14, 14, 512)       2359808   \n",
            "_________________________________________________________________\n",
            "block5_conv3 (Conv2D)        (None, 14, 14, 512)       2359808   \n",
            "_________________________________________________________________\n",
            "block5_pool (MaxPooling2D)   (None, 7, 7, 512)         0         \n",
            "=================================================================\n",
            "Total params: 14,714,688\n",
            "Trainable params: 0\n",
            "Non-trainable params: 14,714,688\n",
            "_________________________________________________________________\n"
          ],
          "name": "stdout"
        },
        {
          "output_type": "stream",
          "text": [
            "100%|██████████| 3/3 [03:46<00:00, 75.42s/it]\n"
          ],
          "name": "stderr"
        }
      ]
    },
    {
      "cell_type": "code",
      "metadata": {
        "id": "UbM7RlKcxCe4"
      },
      "source": [
        "bottleneck_features = np.load('bottleneck_features/DogVGG16Data.npz')\n",
        "train_VGG16 = bottleneck_features['train']\n",
        "valid_VGG16 = bottleneck_features['valid']\n",
        "test_VGG16 = bottleneck_features['test']"
      ],
      "execution_count": 42,
      "outputs": []
    },
    {
      "cell_type": "markdown",
      "metadata": {
        "id": "9mJzknFFxCe5"
      },
      "source": [
        "### Model Architecture\n",
        "\n",
        "The model uses the the pre-trained VGG-16 model as a fixed feature extractor, where the last convolutional output of VGG-16 is fed as input to our model.  We only add a global average pooling layer and a fully connected layer, where the latter contains one node for each dog category and is equipped with a softmax."
      ]
    },
    {
      "cell_type": "code",
      "metadata": {
        "id": "ep1uvNLMxCe6",
        "colab": {
          "base_uri": "https://localhost:8080/"
        },
        "outputId": "ac14e981-72a3-4d0b-f2f5-140e75b19740"
      },
      "source": [
        "from keras.layers import Conv2D, MaxPooling2D, GlobalAveragePooling2D\n",
        "from keras.layers import Dropout, Flatten, Dense\n",
        "from keras.models import Sequential\n",
        "\n",
        "VGG16_model = Sequential()\n",
        "VGG16_model.add(GlobalAveragePooling2D(input_shape=train_VGG16.shape[1:]))\n",
        "VGG16_model.add(Dense(133, activation='softmax'))\n",
        "\n",
        "VGG16_model.summary()"
      ],
      "execution_count": 44,
      "outputs": [
        {
          "output_type": "stream",
          "text": [
            "Model: \"sequential_1\"\n",
            "_________________________________________________________________\n",
            "Layer (type)                 Output Shape              Param #   \n",
            "=================================================================\n",
            "global_average_pooling2d_1 ( (None, 512)               0         \n",
            "_________________________________________________________________\n",
            "dense_2 (Dense)              (None, 133)               68229     \n",
            "=================================================================\n",
            "Total params: 68,229\n",
            "Trainable params: 68,229\n",
            "Non-trainable params: 0\n",
            "_________________________________________________________________\n"
          ],
          "name": "stdout"
        }
      ]
    },
    {
      "cell_type": "markdown",
      "metadata": {
        "id": "k7GDhszoxCe8"
      },
      "source": [
        "### Compile the Model"
      ]
    },
    {
      "cell_type": "code",
      "metadata": {
        "id": "KNyZkHAHxCe9"
      },
      "source": [
        "VGG16_model.compile(loss='categorical_crossentropy', optimizer='rmsprop', metrics=['accuracy'])"
      ],
      "execution_count": 45,
      "outputs": []
    },
    {
      "cell_type": "markdown",
      "metadata": {
        "id": "13RENWj-xCfC"
      },
      "source": [
        "### Train the Model"
      ]
    },
    {
      "cell_type": "code",
      "metadata": {
        "id": "qVeyQcr6xCfD",
        "colab": {
          "base_uri": "https://localhost:8080/"
        },
        "outputId": "c776d4a6-10de-418c-95e1-0bf1b6a6f1d4"
      },
      "source": [
        "from keras.callbacks import ModelCheckpoint \n",
        "\n",
        "checkpointer = ModelCheckpoint(filepath='saved_models/weights.best.VGG16.hdf5', \n",
        "                               verbose=1, save_best_only=True)\n",
        "\n",
        "VGG16_model.fit(train_VGG16, train_targets, \n",
        "          validation_data=(valid_VGG16, valid_targets),\n",
        "          epochs=20, batch_size=20, callbacks=[checkpointer], verbose=1)"
      ],
      "execution_count": 46,
      "outputs": [
        {
          "output_type": "stream",
          "text": [
            "Epoch 1/20\n",
            "334/334 [==============================] - 10s 5ms/step - loss: 4.8870 - accuracy: 0.0248 - val_loss: 4.5263 - val_accuracy: 0.0766\n",
            "\n",
            "Epoch 00001: val_loss improved from inf to 4.52630, saving model to saved_models/weights.best.VGG16.hdf5\n",
            "Epoch 2/20\n",
            "334/334 [==============================] - 1s 4ms/step - loss: 4.3873 - accuracy: 0.1111 - val_loss: 4.2257 - val_accuracy: 0.1401\n",
            "\n",
            "Epoch 00002: val_loss improved from 4.52630 to 4.22569, saving model to saved_models/weights.best.VGG16.hdf5\n",
            "Epoch 3/20\n",
            "334/334 [==============================] - 1s 4ms/step - loss: 4.0624 - accuracy: 0.1821 - val_loss: 3.9947 - val_accuracy: 0.1737\n",
            "\n",
            "Epoch 00003: val_loss improved from 4.22569 to 3.99473, saving model to saved_models/weights.best.VGG16.hdf5\n",
            "Epoch 4/20\n",
            "334/334 [==============================] - 1s 4ms/step - loss: 3.7967 - accuracy: 0.2386 - val_loss: 3.8157 - val_accuracy: 0.1760\n",
            "\n",
            "Epoch 00004: val_loss improved from 3.99473 to 3.81572, saving model to saved_models/weights.best.VGG16.hdf5\n",
            "Epoch 5/20\n",
            "334/334 [==============================] - 2s 5ms/step - loss: 3.5429 - accuracy: 0.2819 - val_loss: 3.6705 - val_accuracy: 0.1952\n",
            "\n",
            "Epoch 00005: val_loss improved from 3.81572 to 3.67049, saving model to saved_models/weights.best.VGG16.hdf5\n",
            "Epoch 6/20\n",
            "334/334 [==============================] - 1s 4ms/step - loss: 3.3536 - accuracy: 0.3163 - val_loss: 3.5335 - val_accuracy: 0.2180\n",
            "\n",
            "Epoch 00006: val_loss improved from 3.67049 to 3.53353, saving model to saved_models/weights.best.VGG16.hdf5\n",
            "Epoch 7/20\n",
            "334/334 [==============================] - 2s 5ms/step - loss: 3.1643 - accuracy: 0.3631 - val_loss: 3.4137 - val_accuracy: 0.2359\n",
            "\n",
            "Epoch 00007: val_loss improved from 3.53353 to 3.41371, saving model to saved_models/weights.best.VGG16.hdf5\n",
            "Epoch 8/20\n",
            "334/334 [==============================] - 1s 4ms/step - loss: 3.0321 - accuracy: 0.3762 - val_loss: 3.3318 - val_accuracy: 0.2467\n",
            "\n",
            "Epoch 00008: val_loss improved from 3.41371 to 3.33180, saving model to saved_models/weights.best.VGG16.hdf5\n",
            "Epoch 9/20\n",
            "334/334 [==============================] - 1s 4ms/step - loss: 2.9351 - accuracy: 0.3865 - val_loss: 3.2564 - val_accuracy: 0.2563\n",
            "\n",
            "Epoch 00009: val_loss improved from 3.33180 to 3.25637, saving model to saved_models/weights.best.VGG16.hdf5\n",
            "Epoch 10/20\n",
            "334/334 [==============================] - 1s 4ms/step - loss: 2.8119 - accuracy: 0.4158 - val_loss: 3.1856 - val_accuracy: 0.2611\n",
            "\n",
            "Epoch 00010: val_loss improved from 3.25637 to 3.18555, saving model to saved_models/weights.best.VGG16.hdf5\n",
            "Epoch 11/20\n",
            "334/334 [==============================] - 2s 5ms/step - loss: 2.6975 - accuracy: 0.4307 - val_loss: 3.1249 - val_accuracy: 0.2695\n",
            "\n",
            "Epoch 00011: val_loss improved from 3.18555 to 3.12494, saving model to saved_models/weights.best.VGG16.hdf5\n",
            "Epoch 12/20\n",
            "334/334 [==============================] - 1s 4ms/step - loss: 2.6029 - accuracy: 0.4580 - val_loss: 3.0668 - val_accuracy: 0.2862\n",
            "\n",
            "Epoch 00012: val_loss improved from 3.12494 to 3.06680, saving model to saved_models/weights.best.VGG16.hdf5\n",
            "Epoch 13/20\n",
            "334/334 [==============================] - 1s 4ms/step - loss: 2.5397 - accuracy: 0.4645 - val_loss: 3.0089 - val_accuracy: 0.3269\n",
            "\n",
            "Epoch 00013: val_loss improved from 3.06680 to 3.00885, saving model to saved_models/weights.best.VGG16.hdf5\n",
            "Epoch 14/20\n",
            "334/334 [==============================] - 1s 4ms/step - loss: 2.4195 - accuracy: 0.4870 - val_loss: 2.9619 - val_accuracy: 0.3162\n",
            "\n",
            "Epoch 00014: val_loss improved from 3.00885 to 2.96190, saving model to saved_models/weights.best.VGG16.hdf5\n",
            "Epoch 15/20\n",
            "334/334 [==============================] - 1s 4ms/step - loss: 2.3680 - accuracy: 0.4969 - val_loss: 2.9238 - val_accuracy: 0.3078\n",
            "\n",
            "Epoch 00015: val_loss improved from 2.96190 to 2.92377, saving model to saved_models/weights.best.VGG16.hdf5\n",
            "Epoch 16/20\n",
            "334/334 [==============================] - 1s 4ms/step - loss: 2.2996 - accuracy: 0.5038 - val_loss: 2.8918 - val_accuracy: 0.2874\n",
            "\n",
            "Epoch 00016: val_loss improved from 2.92377 to 2.89179, saving model to saved_models/weights.best.VGG16.hdf5\n",
            "Epoch 17/20\n",
            "334/334 [==============================] - 1s 4ms/step - loss: 2.2390 - accuracy: 0.5279 - val_loss: 2.8508 - val_accuracy: 0.3234\n",
            "\n",
            "Epoch 00017: val_loss improved from 2.89179 to 2.85080, saving model to saved_models/weights.best.VGG16.hdf5\n",
            "Epoch 18/20\n",
            "334/334 [==============================] - 1s 4ms/step - loss: 2.1895 - accuracy: 0.5273 - val_loss: 2.8397 - val_accuracy: 0.3066\n",
            "\n",
            "Epoch 00018: val_loss improved from 2.85080 to 2.83974, saving model to saved_models/weights.best.VGG16.hdf5\n",
            "Epoch 19/20\n",
            "334/334 [==============================] - 1s 4ms/step - loss: 2.1490 - accuracy: 0.5304 - val_loss: 2.8037 - val_accuracy: 0.3138\n",
            "\n",
            "Epoch 00019: val_loss improved from 2.83974 to 2.80369, saving model to saved_models/weights.best.VGG16.hdf5\n",
            "Epoch 20/20\n",
            "334/334 [==============================] - 1s 4ms/step - loss: 2.0969 - accuracy: 0.5481 - val_loss: 2.7763 - val_accuracy: 0.3269\n",
            "\n",
            "Epoch 00020: val_loss improved from 2.80369 to 2.77628, saving model to saved_models/weights.best.VGG16.hdf5\n"
          ],
          "name": "stdout"
        },
        {
          "output_type": "execute_result",
          "data": {
            "text/plain": [
              "<keras.callbacks.History at 0x7f17c605c210>"
            ]
          },
          "metadata": {
            "tags": []
          },
          "execution_count": 46
        }
      ]
    },
    {
      "cell_type": "markdown",
      "metadata": {
        "id": "a8wM6VnJxCfG"
      },
      "source": [
        "### Load the Model with the Best Validation Loss"
      ]
    },
    {
      "cell_type": "code",
      "metadata": {
        "id": "0dLFGDnzxCfI"
      },
      "source": [
        "VGG16_model.load_weights('saved_models/weights.best.VGG16.hdf5')"
      ],
      "execution_count": 47,
      "outputs": []
    },
    {
      "cell_type": "markdown",
      "metadata": {
        "id": "PHaELwrvxCfK"
      },
      "source": [
        "### Test the Model\n",
        "\n",
        "Now, we can use the CNN to test how well it identifies breed within our test dataset of dog images.  We print the test accuracy below."
      ]
    },
    {
      "cell_type": "code",
      "metadata": {
        "id": "dwpR4_q9xCfL",
        "colab": {
          "base_uri": "https://localhost:8080/"
        },
        "outputId": "7ad5fbfe-877f-4710-8bb6-18025c20e641"
      },
      "source": [
        "# get index of predicted dog breed for each image in test set\n",
        "VGG16_predictions = [np.argmax(VGG16_model.predict(np.expand_dims(feature, axis=0))) for feature in test_VGG16]\n",
        "\n",
        "# report test accuracy\n",
        "test_accuracy = 100*np.sum(np.array(VGG16_predictions)==np.argmax(test_targets, axis=1))/len(VGG16_predictions)\n",
        "print('Test accuracy: %.4f%%' % test_accuracy)"
      ],
      "execution_count": 48,
      "outputs": [
        {
          "output_type": "stream",
          "text": [
            "Test accuracy: 34.2105%\n"
          ],
          "name": "stdout"
        }
      ]
    },
    {
      "cell_type": "markdown",
      "metadata": {
        "id": "yUpSvioWxCfO"
      },
      "source": [
        "### Predict Dog Breed with the Model"
      ]
    },
    {
      "cell_type": "code",
      "metadata": {
        "id": "B4-Mmu9kxCfQ",
        "colab": {
          "base_uri": "https://localhost:8080/",
          "height": 36
        },
        "outputId": "7d14df3d-6e65-47a8-99a9-12d2f34756ea"
      },
      "source": [
        "try:\n",
        "    if is_colab == True:\n",
        "        pass\n",
        "except:\n",
        "    from extract_bottleneck_features import *\n",
        "\n",
        "def VGG16_predict_breed(img_path):\n",
        "    try:\n",
        "        if is_colab == True:\n",
        "            bottleneck_feature = model.predict(path_to_tensor(img_path))\n",
        "    except:\n",
        "        # extract bottleneck features\n",
        "        bottleneck_feature = extract_VGG16(path_to_tensor(img_path))\n",
        "    # obtain predicted vector\n",
        "    predicted_vector = VGG16_model.predict(bottleneck_feature)\n",
        "    # return dog breed that is predicted by the model\n",
        "    return dog_names[np.argmax(predicted_vector)]\n",
        "\n",
        "VGG16_predict_breed(path+'/dog_images/valid/004.Akita/Akita_00219.jpg')"
      ],
      "execution_count": 50,
      "outputs": [
        {
          "output_type": "execute_result",
          "data": {
            "application/vnd.google.colaboratory.intrinsic+json": {
              "type": "string"
            },
            "text/plain": [
              "'train/118.Pembroke_welsh_corgi'"
            ]
          },
          "metadata": {
            "tags": []
          },
          "execution_count": 50
        }
      ]
    },
    {
      "cell_type": "markdown",
      "metadata": {
        "id": "IiJHLbO6xCfR"
      },
      "source": [
        "---\n",
        "<a id='step5'></a>\n",
        "## Step 5: Create a CNN to Classify Dog Breeds (using Transfer Learning)\n",
        "\n",
        "You will now use transfer learning to create a CNN that can identify dog breed from images.  Your CNN must attain at least 60% accuracy on the test set.\n",
        "\n",
        "In Step 4, we used transfer learning to create a CNN using VGG-16 bottleneck features.  In this section, you must use the bottleneck features from a different pre-trained model.  To make things easier for you, we have pre-computed the features for all of the networks that are currently available in Keras:\n",
        "- [VGG-19](https://s3-us-west-1.amazonaws.com/udacity-aind/dog-project/DogVGG19Data.npz) bottleneck features\n",
        "- [ResNet-50](https://s3-us-west-1.amazonaws.com/udacity-aind/dog-project/DogResnet50Data.npz) bottleneck features\n",
        "- [Inception](https://s3-us-west-1.amazonaws.com/udacity-aind/dog-project/DogInceptionV3Data.npz) bottleneck features\n",
        "- [Xception](https://s3-us-west-1.amazonaws.com/udacity-aind/dog-project/DogXceptionData.npz) bottleneck features\n",
        "\n",
        "The files are encoded as such:\n",
        "\n",
        "    Dog{network}Data.npz\n",
        "    \n",
        "where `{network}`, in the above filename, can be one of `VGG19`, `Resnet50`, `InceptionV3`, or `Xception`.  Pick one of the above architectures, download the corresponding bottleneck features, and store the downloaded file in the `bottleneck_features/` folder in the repository.\n",
        "\n",
        "### (IMPLEMENTATION) Obtain Bottleneck Features\n",
        "\n",
        "In the code block below, extract the bottleneck features corresponding to the train, test, and validation sets by running the following:\n",
        "\n",
        "    bottleneck_features = np.load('bottleneck_features/Dog{network}Data.npz')\n",
        "    train_{network} = bottleneck_features['train']\n",
        "    valid_{network} = bottleneck_features['valid']\n",
        "    test_{network} = bottleneck_features['test']"
      ]
    },
    {
      "cell_type": "code",
      "metadata": {
        "colab": {
          "base_uri": "https://localhost:8080/"
        },
        "id": "xEZXvHjyDIak",
        "outputId": "c5dbd8d8-54fc-4ff2-abe7-b5bac6537914"
      },
      "source": [
        "# In colab I need to download the bottleneck features first\n",
        "try:\n",
        "    if is_colab == True:\n",
        "        !wget https://s3-us-west-1.amazonaws.com/udacity-aind/dog-project/DogResnet50Data.npz\n",
        "        !mv DogResnet50Data.npz /content/bottleneck_features/\n",
        "except:\n",
        "    pass"
      ],
      "execution_count": 54,
      "outputs": [
        {
          "output_type": "stream",
          "text": [
            "--2021-07-14 14:49:18--  https://s3-us-west-1.amazonaws.com/udacity-aind/dog-project/DogResnet50Data.npz\n",
            "Resolving s3-us-west-1.amazonaws.com (s3-us-west-1.amazonaws.com)... 52.219.120.160\n",
            "Connecting to s3-us-west-1.amazonaws.com (s3-us-west-1.amazonaws.com)|52.219.120.160|:443... connected.\n",
            "HTTP request sent, awaiting response... 200 OK\n",
            "Length: 80602216 (77M) [application/x-www-form-urlencoded]\n",
            "Saving to: ‘DogResnet50Data.npz’\n",
            "\n",
            "DogResnet50Data.npz 100%[===================>]  76.87M  43.5MB/s    in 1.8s    \n",
            "\n",
            "2021-07-14 14:49:21 (43.5 MB/s) - ‘DogResnet50Data.npz’ saved [80602216/80602216]\n",
            "\n"
          ],
          "name": "stdout"
        }
      ]
    },
    {
      "cell_type": "code",
      "metadata": {
        "collapsed": true,
        "id": "sJEBCUrSxCfT"
      },
      "source": [
        "### TODO: Obtain bottleneck features from another pre-trained CNN.\n",
        "bottleneck_features = np.load('bottleneck_features/DogResnet50Data.npz')\n",
        "\n",
        "train_ResNet50 = bottleneck_features['train']\n",
        "valid_ResNet50 = bottleneck_features['valid']\n",
        "test_ResNet50 = bottleneck_features['test']"
      ],
      "execution_count": 55,
      "outputs": []
    },
    {
      "cell_type": "markdown",
      "metadata": {
        "id": "xfc5cMdaxCfU"
      },
      "source": [
        "### (IMPLEMENTATION) Model Architecture\n",
        "\n",
        "Create a CNN to classify dog breed.  At the end of your code cell block, summarize the layers of your model by executing the line:\n",
        "    \n",
        "        <your model's name>.summary()\n",
        "   \n",
        "__Question 5:__ Outline the steps you took to get to your final CNN architecture and your reasoning at each step.  Describe why you think the architecture is suitable for the current problem.\n",
        "\n",
        "__Answer:__ Repeating the same approach, we started to expand the search results space. This is done using two fully connected layers with the same configuration as the above task when training from scratch gave the final rating with 18% accuracy\n"
      ]
    },
    {
      "cell_type": "code",
      "metadata": {
        "id": "Oc5i4J5jxCfW",
        "colab": {
          "base_uri": "https://localhost:8080/"
        },
        "outputId": "00411e3e-84bd-4302-e42c-9da1e92bf76d"
      },
      "source": [
        "### TODO: Define your architecture.\n",
        "from keras.layers import Conv2D, MaxPooling2D, GlobalAveragePooling2D\n",
        "from keras.layers import Dropout, Flatten, Dense\n",
        "from keras.models import Sequential\n",
        "\n",
        "ResNet50_model_transf_learning = Sequential()\n",
        "ResNet50_model_transf_learning.add(GlobalAveragePooling2D(input_shape=train_ResNet50.shape[1:]))\n",
        "ResNet50_model_transf_learning.add(Dense(1024, activation='relu'))\n",
        "ResNet50_model_transf_learning.add(Dropout(0.3))\n",
        "ResNet50_model_transf_learning.add(Dense(133, activation='softmax'))\n",
        "\n",
        "ResNet50_model_transf_learning.summary()"
      ],
      "execution_count": 80,
      "outputs": [
        {
          "output_type": "stream",
          "text": [
            "Model: \"sequential_10\"\n",
            "_________________________________________________________________\n",
            "Layer (type)                 Output Shape              Param #   \n",
            "=================================================================\n",
            "global_average_pooling2d_9 ( (None, 2048)              0         \n",
            "_________________________________________________________________\n",
            "dense_17 (Dense)             (None, 1024)              2098176   \n",
            "_________________________________________________________________\n",
            "dropout_8 (Dropout)          (None, 1024)              0         \n",
            "_________________________________________________________________\n",
            "dense_18 (Dense)             (None, 133)               136325    \n",
            "=================================================================\n",
            "Total params: 2,234,501\n",
            "Trainable params: 2,234,501\n",
            "Non-trainable params: 0\n",
            "_________________________________________________________________\n"
          ],
          "name": "stdout"
        }
      ]
    },
    {
      "cell_type": "markdown",
      "metadata": {
        "id": "BlaLZZZ_xCfY"
      },
      "source": [
        "### (IMPLEMENTATION) Compile the Model"
      ]
    },
    {
      "cell_type": "code",
      "metadata": {
        "collapsed": true,
        "id": "w1jC6Wa3xCfa"
      },
      "source": [
        "### TODO: Compile the model.\n",
        "ResNet50_model_transf_learning.compile(loss='categorical_crossentropy', optimizer='rmsprop',metrics=['accuracy'])"
      ],
      "execution_count": 81,
      "outputs": []
    },
    {
      "cell_type": "markdown",
      "metadata": {
        "id": "EsTKEUG0xCfb"
      },
      "source": [
        "### (IMPLEMENTATION) Train the Model\n",
        "\n",
        "Train your model in the code cell below.  Use model checkpointing to save the model that attains the best validation loss.  \n",
        "\n",
        "You are welcome to [augment the training data](https://blog.keras.io/building-powerful-image-classification-models-using-very-little-data.html), but this is not a requirement. "
      ]
    },
    {
      "cell_type": "code",
      "metadata": {
        "collapsed": true,
        "id": "IXYZmrO8xCfc",
        "colab": {
          "base_uri": "https://localhost:8080/"
        },
        "outputId": "bb0e4a5f-e00b-483c-864d-b4ce75c969e9"
      },
      "source": [
        "### TODO: Train the model.\n",
        "from keras.callbacks import ModelCheckpoint, EarlyStopping \n",
        "from keras.preprocessing.image import  ImageDataGenerator\n",
        "\n",
        "epochs=6\n",
        "\n",
        "datagen = ImageDataGenerator(rotation_range=40,\n",
        "                             width_shift_range=0.2,\n",
        "                             height_shift_range=0.2,\n",
        "                             horizontal_flip=True,\n",
        "                             fill_mode='nearest')\n",
        "\n",
        "checkpointer = ModelCheckpoint(filepath='saved_models/weights.best.transfer_learning_Resnet50.hdf5', \n",
        "                               verbose=1, save_best_only=True)\n",
        "earlystopper = EarlyStopping(monitor=\"val_loss\",\n",
        "                             patience=3,\n",
        "                             mode=\"auto\",\n",
        "                             baseline=None\n",
        "                             )\n",
        "\n",
        "# Augmented train dataset\n",
        "datagen.fit(train_ResNet50)\n",
        "ResNet50_model_transf_learning.fit(datagen.flow(train_ResNet50,\n",
        "                                                train_targets,\n",
        "                                                batch_size=20),\n",
        "                                   steps_per_epoch =  train_tensors.shape[0] / 20,\n",
        "                                   validation_data=datagen.flow(train_ResNet50,\n",
        "                                                                train_targets,\n",
        "                                                                batch_size=8),\n",
        "                                   epochs=epochs, batch_size=20,\n",
        "                                   callbacks=[checkpointer,earlystopper], verbose=1)"
      ],
      "execution_count": null,
      "outputs": [
        {
          "output_type": "stream",
          "text": [
            "/usr/local/lib/python3.7/dist-packages/keras_preprocessing/image/image_data_generator.py:947: UserWarning: Expected input to be images (as Numpy array) following the data format convention \"channels_last\" (channels on axis 3), i.e. expected either 1, 3 or 4 channels on axis 3. However, it was passed an array with shape (6680, 1, 1, 2048) (2048 channels).\n",
            "  ' channels).')\n",
            "/usr/local/lib/python3.7/dist-packages/keras_preprocessing/image/numpy_array_iterator.py:136: UserWarning: NumpyArrayIterator is set to use the data format convention \"channels_last\" (channels on axis 3), i.e. expected either 1, 3, or 4 channels on axis 3. However, it was passed an array with shape (6680, 1, 1, 2048) (2048 channels).\n",
            "  str(self.x.shape[channels_axis]) + ' channels).')\n"
          ],
          "name": "stderr"
        },
        {
          "output_type": "stream",
          "text": [
            "Epoch 1/6\n",
            "334/334 [==============================] - 536s 2s/step - loss: 3.3249 - accuracy: 0.3387 - val_loss: 0.6614 - val_accuracy: 0.7951\n",
            "\n",
            "Epoch 00001: val_loss improved from inf to 0.66136, saving model to /content/saved_models/weights.best.transfer_learning_Resnet50.hdf5\n",
            "Epoch 2/6\n",
            "334/334 [==============================] - 533s 2s/step - loss: 0.8042 - accuracy: 0.7576 - val_loss: 0.3605 - val_accuracy: 0.8766\n",
            "\n",
            "Epoch 00002: val_loss improved from 0.66136 to 0.36045, saving model to /content/saved_models/weights.best.transfer_learning_Resnet50.hdf5\n",
            "Epoch 3/6\n",
            "334/334 [==============================] - 532s 2s/step - loss: 0.5447 - accuracy: 0.8340 - val_loss: 0.3752 - val_accuracy: 0.8807\n",
            "\n",
            "Epoch 00003: val_loss did not improve from 0.36045\n",
            "Epoch 4/6\n",
            "334/334 [==============================] - 532s 2s/step - loss: 0.4315 - accuracy: 0.8644 - val_loss: 0.1738 - val_accuracy: 0.9391\n",
            "\n",
            "Epoch 00004: val_loss improved from 0.36045 to 0.17383, saving model to /content/saved_models/weights.best.transfer_learning_Resnet50.hdf5\n",
            "Epoch 5/6\n",
            "334/334 [==============================] - 530s 2s/step - loss: 0.3214 - accuracy: 0.9083 - val_loss: 0.1375 - val_accuracy: 0.9506\n",
            "\n",
            "Epoch 00005: val_loss improved from 0.17383 to 0.13748, saving model to /content/saved_models/weights.best.transfer_learning_Resnet50.hdf5\n",
            "Epoch 6/6\n",
            "334/334 [==============================] - 530s 2s/step - loss: 0.3258 - accuracy: 0.8974 - val_loss: 0.1236 - val_accuracy: 0.9581\n",
            "\n",
            "Epoch 00006: val_loss improved from 0.13748 to 0.12364, saving model to /content/saved_models/weights.best.transfer_learning_Resnet50.hdf5\n"
          ],
          "name": "stdout"
        },
        {
          "output_type": "execute_result",
          "data": {
            "text/plain": [
              "<keras.callbacks.History at 0x7fdc16ae5b10>"
            ]
          },
          "metadata": {
            "tags": []
          },
          "execution_count": 25
        }
      ]
    },
    {
      "cell_type": "markdown",
      "metadata": {
        "id": "5qvrYpFgxCfd"
      },
      "source": [
        "### (IMPLEMENTATION) Load the Model with the Best Validation Loss"
      ]
    },
    {
      "cell_type": "code",
      "metadata": {
        "collapsed": true,
        "id": "xE5vBmGkxCfe"
      },
      "source": [
        "### TODO: Load the model weights with the best validation loss.\n",
        "\n",
        "ResNet50_model_transf_learning.load_weights('saved_models/weights.best.transfer_learning_Resnet50.hdf5')"
      ],
      "execution_count": 82,
      "outputs": []
    },
    {
      "cell_type": "markdown",
      "metadata": {
        "id": "9O0hmZRbxCff"
      },
      "source": [
        "### (IMPLEMENTATION) Test the Model\n",
        "\n",
        "Try out your model on the test dataset of dog images. Ensure that your test accuracy is greater than 60%."
      ]
    },
    {
      "cell_type": "code",
      "metadata": {
        "id": "2kPVl99-xCfg",
        "colab": {
          "base_uri": "https://localhost:8080/"
        },
        "outputId": "8c16f13f-ec4b-42b1-8d76-3269a7c52f10"
      },
      "source": [
        "### TODO: Calculate classification accuracy on the test dataset.\n",
        "# get index of predicted dog breed for each image in test set - copy of the above\n",
        "ResNet50_predictions = [np.argmax(ResNet50_model_transf_learning.predict(np.expand_dims(feature, axis=0))) for feature in test_ResNet50]\n",
        "\n",
        "# report test accuracy\n",
        "test_accuracy = 100*np.sum(np.array(ResNet50_predictions)==np.argmax(test_targets, axis=1))/len(ResNet50_predictions)\n",
        "print('Test accuracy: %.4f%%' % test_accuracy)"
      ],
      "execution_count": 83,
      "outputs": [
        {
          "output_type": "stream",
          "text": [
            "Test accuracy: 79.9043%\n"
          ],
          "name": "stdout"
        }
      ]
    },
    {
      "cell_type": "markdown",
      "metadata": {
        "id": "IWYn7ubgxCfg"
      },
      "source": [
        "### (IMPLEMENTATION) Predict Dog Breed with the Model\n",
        "\n",
        "Write a function that takes an image path as input and returns the dog breed (`Affenpinscher`, `Afghan_hound`, etc) that is predicted by your model.  \n",
        "\n",
        "Similar to the analogous function in Step 5, your function should have three steps:\n",
        "1. Extract the bottleneck features corresponding to the chosen CNN model.\n",
        "2. Supply the bottleneck features as input to the model to return the predicted vector.  Note that the argmax of this prediction vector gives the index of the predicted dog breed.\n",
        "3. Use the `dog_names` array defined in Step 0 of this notebook to return the corresponding breed.\n",
        "\n",
        "The functions to extract the bottleneck features can be found in `extract_bottleneck_features.py`, and they have been imported in an earlier code cell.  To obtain the bottleneck features corresponding to your chosen CNN architecture, you need to use the function\n",
        "\n",
        "    extract_{network}\n",
        "    \n",
        "where `{network}`, in the above filename, should be one of `VGG19`, `Resnet50`, `InceptionV3`, or `Xception`."
      ]
    },
    {
      "cell_type": "code",
      "metadata": {
        "collapsed": true,
        "id": "Z27Pw5Q7xCfi"
      },
      "source": [
        "### TODO: Write a function that takes a path to an image as input\n",
        "### and returns the dog breed that is predicted by the model.\n",
        "\n",
        "def create_CNN_predictor(input_shape):\n",
        "    '''\n",
        "    Function to return the fully connected layers pre trained.\n",
        "    Input: input_shape - tuple with tensor dimensions\n",
        "    Output: predictor_model - tensorflows class with a trained network to \n",
        "                              categorical classification\n",
        "    '''\n",
        "    from keras.layers import Conv2D, MaxPooling2D, GlobalAveragePooling2D\n",
        "    from keras.layers import Dropout, Flatten, Dense\n",
        "    from keras.models import Sequential\n",
        "\n",
        "    predictor_model = Sequential()\n",
        "    predictor_model.add(GlobalAveragePooling2D(input_shape=input_shape))\n",
        "    predictor_model.add(Dense(1024, activation='relu'))\n",
        "    predictor_model.add(Dropout(0.3))\n",
        "    predictor_model.add(Dense(133, activation='softmax'))\n",
        "    predictor_model.load_weights('saved_models/weights.best.transfer_learning_Resnet50.hdf5')\n",
        "    predictor_model.compile(loss='categorical_crossentropy', optimizer='rmsprop',metrics=['accuracy'])\n",
        "\n",
        "    return predictor_model\n",
        "\n",
        "def return_dog_breed(image_path):\n",
        "    '''\n",
        "    Function to return the dog image breed.\n",
        "    Input: image_path - path to image file\n",
        "    Output: breed_predicted - string\n",
        "            dog_breed_predicted_proba - numpy array with probabilities to breeds\n",
        "    '''\n",
        " \n",
        "    from tensorflow.keras.applications import ResNet50\n",
        "    from keras.applications.resnet50 import preprocess_input\n",
        "    from PIL import Image\n",
        "\n",
        "    # 1-Extract the bottleneck features from ResNet50\n",
        "    img_tensor = preprocess_input(path_to_tensor(image_path))\n",
        "    input_shape = img_tensor.shape[1:]\n",
        "\n",
        "    model_features = ResNet50(include_top = False,   # Without the 3 fully-connected layers\n",
        "                     weights = \"imagenet\",  # Load the pre-trained weights\n",
        "                     input_shape = input_shape)\n",
        "    model_features.trainable = False\n",
        "    features = model_features.predict(img_tensor)\n",
        "    \n",
        "    # 2-Supply the bottleneck features to model, return the predicted model\n",
        "    model_prediction = create_CNN_predictor(features.shape[1:])\n",
        "    \n",
        "    dog_breed_predicted_proba = model_prediction.predict(features)\n",
        "    dog_breed_predicted = np.argmax(dog_breed_predicted_proba)\n",
        "    breed_predicted = dog_names[dog_breed_predicted].split(\"/\")[1].split(\".\")[1]\n",
        "  \n",
        "\n",
        "    return breed_predicted, dog_breed_predicted_proba.T"
      ],
      "execution_count": 86,
      "outputs": []
    },
    {
      "cell_type": "code",
      "metadata": {
        "id": "9hZfLYirEbHA",
        "colab": {
          "base_uri": "https://localhost:8080/",
          "height": 298
        },
        "outputId": "701148b4-0001-4e3f-f6fc-86fe9899a8f2"
      },
      "source": [
        "# Example of using the function \n",
        "name_x,dog_x_prob = return_dog_breed(path+\"/dog_images/train/115.Papillon/Papillon_07439.jpg\")\n",
        "name_y,dog_y_prob = return_dog_breed(path+\"/dog_images/train/016.Beagle/Beagle_01128.jpg\")\n",
        "\n",
        "import matplotlib.pyplot as plt\n",
        "from PIL import Image\n",
        "plt.plot(dog_x_prob)\n",
        "plt.plot(dog_y_prob)\n",
        "plt.legend([name_x,name_y])\n",
        "plt.title('Dog breed and the classification results')\n"
      ],
      "execution_count": 97,
      "outputs": [
        {
          "output_type": "execute_result",
          "data": {
            "text/plain": [
              "Text(0.5, 1.0, 'Dog breed and the classification results')"
            ]
          },
          "metadata": {
            "tags": []
          },
          "execution_count": 97
        },
        {
          "output_type": "display_data",
          "data": {
            "image/png": "[encoded data removed]",
            "text/plain": [
              "<Figure size 432x288 with 1 Axes>"
            ]
          },
          "metadata": {
            "tags": [],
            "needs_background": "light"
          }
        }
      ]
    },
    {
      "cell_type": "markdown",
      "metadata": {
        "id": "3Moso_JtxCfj"
      },
      "source": [
        "---\n",
        "<a id='step6'></a>\n",
        "## Step 6: Write your Algorithm\n",
        "\n",
        "Write an algorithm that accepts a file path to an image and first determines whether the image contains a human, dog, or neither.  Then,\n",
        "- if a __dog__ is detected in the image, return the predicted breed.\n",
        "- if a __human__ is detected in the image, return the resembling dog breed.\n",
        "- if __neither__ is detected in the image, provide output that indicates an error.\n",
        "\n",
        "You are welcome to write your own functions for detecting humans and dogs in images, but feel free to use the `face_detector` and `dog_detector` functions developed above.  You are __required__ to use your CNN from Step 5 to predict dog breed.  \n",
        "\n",
        "A sample image and output for our algorithm is provided below, but feel free to design your own user experience!\n",
        "\n",
        "![Sample Human Output](https://github.com/edbroni/dog_breed/blob/main/script/images/sample_human_2.png?raw=1)\n",
        "\n",
        "This photo looks like an Afghan Hound.\n",
        "### (IMPLEMENTATION) Write your Algorithm"
      ]
    },
    {
      "cell_type": "code",
      "metadata": {
        "collapsed": true,
        "id": "iyxDm7UGxCfk"
      },
      "source": [
        "### TODO: Write your algorithm.\n",
        "### Feel free to use as many code cells as needed.\n",
        "\n",
        "def identify_and_classify(img):\n",
        "\n",
        "    if dog_detector(img) == True: # Implicit path_to_image and ResNet50_predict_labels\n",
        "        # Dog detected\n",
        "        dog_breed, _ = return_dog_breed(img)\n",
        "        \n",
        "    elif face_detector(img) == True:\n",
        "        # Human detected\n",
        "        print(\"This is a human face but the neural network point to this dog breed: \")\n",
        "        dog_breed, _ = return_dog_breed(img)\n",
        "\n",
        "    else:\n",
        "        print('Error')\n",
        "        return\n",
        "        \n",
        "    return dog_breed"
      ],
      "execution_count": 94,
      "outputs": []
    },
    {
      "cell_type": "markdown",
      "metadata": {
        "id": "cmSZMkbMxCfm"
      },
      "source": [
        "---\n",
        "<a id='step7'></a>\n",
        "## Step 7: Test Your Algorithm\n",
        "\n",
        "In this section, you will take your new algorithm for a spin!  What kind of dog does the algorithm think that __you__ look like?  If you have a dog, does it predict your dog's breed accurately?  If you have a cat, does it mistakenly think that your cat is a dog?\n",
        "\n",
        "### (IMPLEMENTATION) Test Your Algorithm on Sample Images!\n",
        "\n",
        "Test your algorithm at least six images on your computer.  Feel free to use any images you like.  Use at least two human and two dog images.  \n",
        "\n",
        "__Question 6:__ Is the output better than you expected :) ?  Or worse :( ?  Provide at least three possible points of improvement for your algorithm.\n",
        "\n",
        "__Answer:__ "
      ]
    },
    {
      "cell_type": "code",
      "metadata": {
        "collapsed": true,
        "id": "m0RDsB5NxCfn",
        "colab": {
          "base_uri": "https://localhost:8080/"
        },
        "outputId": "5bc54429-e009-4222-dfe7-3cec7d87fc99"
      },
      "source": [
        "## TODO: Execute your algorithm from Step 6 on\n",
        "## at least 6 images on your computer.\n",
        "## Feel free to use as many code cells as needed.\n",
        "print(identify_and_classify('lfw/Abdullah/Abdullah_0001.jpg'))\n",
        "print(identify_and_classify(path+\"/dog_images/train/115.Papillon/Papillon_07439.jpg\"))"
      ],
      "execution_count": 98,
      "outputs": [
        {
          "output_type": "stream",
          "text": [
            "This is a human face but the neural network point to this dog breed: \n",
            "Lowchen\n",
            "Papillon\n"
          ],
          "name": "stdout"
        }
      ]
    },
    {
      "cell_type": "code",
      "metadata": {
        "id": "cjTxw-VojDkn"
      },
      "source": [
        ""
      ],
      "execution_count": null,
      "outputs": []
    }
  ]
}